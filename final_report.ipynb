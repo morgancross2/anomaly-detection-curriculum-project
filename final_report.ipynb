{
 "cells": [
  {
   "cell_type": "code",
   "execution_count": 1,
   "id": "5d51c20b-41e4-4ba6-bfb8-89c42a42149e",
   "metadata": {},
   "outputs": [],
   "source": [
    "# standard ds imports\n",
    "import numpy as np\n",
    "import pandas as pd\n",
    "\n",
    "# for visualization\n",
    "import matplotlib.pyplot as plt\n",
    "import seaborn as sns\n",
    "\n",
    "# for clean final report\n",
    "import wrangle\n",
    "import explore\n",
    "\n",
    "# filter out noise\n",
    "import warnings\n",
    "warnings.filterwarnings('ignore')\n",
    "\n",
    "# align markdown tables to the left"
   ]
  },
  {
   "cell_type": "code",
   "execution_count": 2,
   "id": "964b562c-4bf5-4f0e-ae62-c5487198a55b",
   "metadata": {},
   "outputs": [
    {
     "data": {
      "text/html": [
       "<style>\n",
       "table {float:left}\n",
       "</style>\n"
      ],
      "text/plain": [
       "<IPython.core.display.HTML object>"
      ]
     },
     "metadata": {},
     "output_type": "display_data"
    }
   ],
   "source": [
    "%%html\n",
    "<style>\n",
    "table {float:left}\n",
    "</style>"
   ]
  },
  {
   "cell_type": "markdown",
   "id": "bbe869e3-9003-4f2e-aea1-fa7af753031c",
   "metadata": {},
   "source": [
    "# Anomaly Detection Project\n",
    "\n",
    "This project is designed to answer key questions from the curriculum log data."
   ]
  },
  {
   "cell_type": "markdown",
   "id": "9a224d89-4589-452c-91e9-fd6bec96c731",
   "metadata": {},
   "source": [
    "----"
   ]
  },
  {
   "cell_type": "markdown",
   "id": "e69c02a7-8c70-4943-9d77-b0d23fd76c24",
   "metadata": {},
   "source": [
    "## Executive Summary:\n",
    "Goals\n",
    " - Answer direct questions provided\n",
    " - Locate and interperate any anomaly occurance in the logs\n",
    " \n",
    "Key Findings\n",
    " - Data Science alumni often come back for the fundamentals lesson, insinuating this information needs more review prior to graduation\n",
    " - The 2019 shut down of program cross-curriculum-access did not take effect. A data science student was able to access web development curriculum in May 2020\n",
    " \n",
    "Takeaways\n",
    " - Students and Alumni can still access other programs information and this needs to be addressed\n",
    " - Programs are consistent cohort to cohort on their lessons with very few significant variations\n",
    " - Site visits are trending up\n",
    " \n",
    "Recommendations\n",
    "- Add extra emphasis and focus on spring content for web development students\n",
    "- Adding in a fundamentals review towards the end of the data science program may mitigate knowledge lost after graduation\n",
    "- Develop dashboard to update live data to visually display how current cohorts are interacting with the curriculum\n",
    "- Ensure the server resources can handle added demand as programs continue to grow"
   ]
  },
  {
   "cell_type": "markdown",
   "id": "357b26b6-1894-437d-b21d-80fa82475109",
   "metadata": {},
   "source": [
    "---"
   ]
  },
  {
   "cell_type": "markdown",
   "id": "38e5921b-7166-4eff-871a-76d0d06406a4",
   "metadata": {},
   "source": [
    "## 1. Planning\n",
    " - Create deliverables:\n",
    "     - email\n",
    "     - final_report.ipynb\n",
    "     - one-slide executive summary\n",
    " - Bring over functional wrangle.py and explore.py files\n",
    " - Acquire the data from the local CSV's via the acquire function\n",
    " - Prepare the data via the prepare function\n",
    " - Explore the data and answer the questions. \n",
    " - Document findings and takeaways.\n",
    " - Develop and document all findings, takeaways, recommendations and next steps.\n",
    " ---"
   ]
  },
  {
   "cell_type": "markdown",
   "id": "7fb0c69b-b737-4e8a-9667-70e3155ba6be",
   "metadata": {},
   "source": [
    "## 2. Data Acquisition\n",
    "\n",
    "In this step, I call my aquire function from my wrangle.py. This function:\n",
    "- grabs the data from the locally saved CSVs \n",
    "- combines them into one dataframe\n",
    "\n",
    "#### Data Dictionary\n",
    "\n",
    "| Feature Name | Type | Description |\n",
    "| ---- | ---- | ---- |\n",
    "| page | str | pathway to page |\n",
    "| user | int | student's user number |\n",
    "| cohort | int | cohort id number |\n",
    "| ip | str | ip address |\n",
    "| name | str | name of cohort |\n",
    "| start_date | datetime | start date of cohort |\n",
    "| end_date | datetime | end date of cohort |\n",
    "| program | str | which program the cohort teaches. Data Science is 3 and the Web Development is split into 1 for PHP, 2 for Java, and 4 for Front End |"
   ]
  },
  {
   "cell_type": "code",
   "execution_count": 3,
   "id": "26245f68-f081-4dda-aedc-2aa2725b9fd6",
   "metadata": {},
   "outputs": [],
   "source": [
    "# acquire the logs data and the cohort data from local CSVs\n",
    "df, cohorts = wrangle.acquire()"
   ]
  },
  {
   "cell_type": "code",
   "execution_count": 4,
   "id": "c6f5938b-3bbd-4e40-8565-118deb76c383",
   "metadata": {},
   "outputs": [
    {
     "data": {
      "text/plain": [
       "((900222, 1), (53, 5))"
      ]
     },
     "execution_count": 4,
     "metadata": {},
     "output_type": "execute_result"
    }
   ],
   "source": [
    "# look at the shapes of both dataframes\n",
    "df.shape, cohorts.shape"
   ]
  },
  {
   "cell_type": "markdown",
   "id": "e12ecbf2-d166-4f31-a000-9b802bb6e8f3",
   "metadata": {},
   "source": [
    "#### Data Acquisition Takeaways\n",
    "- The data brings in 900,000 log records and data on 53 cohorts across 5 features.\n",
    "- Foreign key columns will be used to merge the data in the prepare step of the pipeline.\n",
    "----"
   ]
  },
  {
   "cell_type": "markdown",
   "id": "8af494a5-d180-46a5-8384-b19a1ddce1c7",
   "metadata": {},
   "source": [
    "## 3. Data Preparation\n",
    "In this step, I called my prepare function from my wrangle.py. This function:\n",
    "- splits out and renames columns to be human readable\n",
    "- moves erroneous ip addresses to the correct column\n",
    "- handes nulls in cohort data\n",
    "- merges the log and cohort dataframes\n",
    "- creates a datetime index using the log entry dates\n",
    "- feature engineers 'lesson' with the root of the page pathway\n",
    "- renames lesson names with near-duplicates\n",
    "- saves a clean version of the CSV locally"
   ]
  },
  {
   "cell_type": "code",
   "execution_count": 5,
   "id": "10dc9317-aad8-452b-94bd-54a30fa79b8a",
   "metadata": {},
   "outputs": [],
   "source": [
    "# call the prepare function to do the cleaning listed above\n",
    "# WARNING: THIS TAKES ABOUT 20 MINUTES TO COMPLETE. \n",
    "df = wrangle.prepare(df, cohorts)"
   ]
  },
  {
   "cell_type": "markdown",
   "id": "a74d4eda-a55f-4946-9ec9-4dc7accdd46d",
   "metadata": {
    "jp-MarkdownHeadingCollapsed": true,
    "tags": []
   },
   "source": [
    "### Data Preparation Takeaways\n",
    "- This step is lengthy due to the number of erroneous ip address entries. By saving the clean CSV locally, this will expidite beginning any future exploration.\n",
    "---"
   ]
  },
  {
   "cell_type": "markdown",
   "id": "52be5d92-82b0-4de7-94ad-9b2287cce9da",
   "metadata": {},
   "source": [
    "## 4. Data Exploration\n",
    "#### Question 1: Which lesson appears to attract the most traffic consistently across cohorts for each program?"
   ]
  },
  {
   "cell_type": "code",
   "execution_count": 6,
   "id": "22bbc8d2-0921-4e15-8ae3-15c87dcd8d32",
   "metadata": {},
   "outputs": [
    {
     "data": {
      "text/html": [
       "<div>\n",
       "<style scoped>\n",
       "    .dataframe tbody tr th:only-of-type {\n",
       "        vertical-align: middle;\n",
       "    }\n",
       "\n",
       "    .dataframe tbody tr th {\n",
       "        vertical-align: top;\n",
       "    }\n",
       "\n",
       "    .dataframe thead th {\n",
       "        text-align: right;\n",
       "    }\n",
       "</style>\n",
       "<table border=\"1\" class=\"dataframe\">\n",
       "  <thead>\n",
       "    <tr style=\"text-align: right;\">\n",
       "      <th></th>\n",
       "      <th>lesson</th>\n",
       "      <th>page</th>\n",
       "    </tr>\n",
       "  </thead>\n",
       "  <tbody>\n",
       "    <tr>\n",
       "      <th>73</th>\n",
       "      <td>fundamentals</td>\n",
       "      <td>16691</td>\n",
       "    </tr>\n",
       "    <tr>\n",
       "      <th>124</th>\n",
       "      <td>sql</td>\n",
       "      <td>13670</td>\n",
       "    </tr>\n",
       "    <tr>\n",
       "      <th>45</th>\n",
       "      <td>classification</td>\n",
       "      <td>11840</td>\n",
       "    </tr>\n",
       "    <tr>\n",
       "      <th>111</th>\n",
       "      <td>python</td>\n",
       "      <td>10455</td>\n",
       "    </tr>\n",
       "    <tr>\n",
       "      <th>0</th>\n",
       "      <td></td>\n",
       "      <td>8358</td>\n",
       "    </tr>\n",
       "  </tbody>\n",
       "</table>\n",
       "</div>"
      ],
      "text/plain": [
       "             lesson   page\n",
       "73     fundamentals  16691\n",
       "124             sql  13670\n",
       "45   classification  11840\n",
       "111          python  10455\n",
       "0                     8358"
      ]
     },
     "execution_count": 6,
     "metadata": {},
     "output_type": "execute_result"
    }
   ],
   "source": [
    "# look at the results for q1\n",
    "ds, wd = explore.q1(df)\n",
    "# look at the data science top lessons first\n",
    "ds"
   ]
  },
  {
   "cell_type": "code",
   "execution_count": 7,
   "id": "39b6fb0a-612b-41b1-a774-13b937064454",
   "metadata": {},
   "outputs": [
    {
     "data": {
      "text/html": [
       "<div>\n",
       "<style scoped>\n",
       "    .dataframe tbody tr th:only-of-type {\n",
       "        vertical-align: middle;\n",
       "    }\n",
       "\n",
       "    .dataframe tbody tr th {\n",
       "        vertical-align: top;\n",
       "    }\n",
       "\n",
       "    .dataframe thead th {\n",
       "        text-align: right;\n",
       "    }\n",
       "</style>\n",
       "<table border=\"1\" class=\"dataframe\">\n",
       "  <thead>\n",
       "    <tr style=\"text-align: right;\">\n",
       "      <th></th>\n",
       "      <th>lesson</th>\n",
       "      <th>page</th>\n",
       "    </tr>\n",
       "  </thead>\n",
       "  <tbody>\n",
       "    <tr>\n",
       "      <th>541</th>\n",
       "      <td>javascript-i</td>\n",
       "      <td>118711</td>\n",
       "    </tr>\n",
       "    <tr>\n",
       "      <th>514</th>\n",
       "      <td>html-css</td>\n",
       "      <td>84909</td>\n",
       "    </tr>\n",
       "    <tr>\n",
       "      <th>578</th>\n",
       "      <td>mysql</td>\n",
       "      <td>82311</td>\n",
       "    </tr>\n",
       "    <tr>\n",
       "      <th>547</th>\n",
       "      <td>jquery</td>\n",
       "      <td>60865</td>\n",
       "    </tr>\n",
       "    <tr>\n",
       "      <th>630</th>\n",
       "      <td>spring</td>\n",
       "      <td>58595</td>\n",
       "    </tr>\n",
       "  </tbody>\n",
       "</table>\n",
       "</div>"
      ],
      "text/plain": [
       "           lesson    page\n",
       "541  javascript-i  118711\n",
       "514      html-css   84909\n",
       "578         mysql   82311\n",
       "547        jquery   60865\n",
       "630        spring   58595"
      ]
     },
     "execution_count": 7,
     "metadata": {},
     "output_type": "execute_result"
    }
   ],
   "source": [
    "# look at the top lessons for web development \n",
    "wd"
   ]
  },
  {
   "cell_type": "markdown",
   "id": "7859ed17-7751-41ca-a448-26c8204b1b86",
   "metadata": {},
   "source": [
    "#### Question 1 Takeaway:\n",
    "- Data Science students visit the fundamentals lesson the most\n",
    "- Web Development studnets visit the javascript-i lesson the most\n",
    "\n",
    "---\n",
    "#### Question 2: Is there a cohort that referred to a lesson significantly more than other cohorts seemed to gloss over?"
   ]
  },
  {
   "cell_type": "code",
   "execution_count": 8,
   "id": "8564048a-76da-49a1-ae92-acdb29af86b4",
   "metadata": {},
   "outputs": [
    {
     "data": {
      "image/png": "[encoded data removed]",
      "text/plain": [
       "<Figure size 864x576 with 1 Axes>"
      ]
     },
     "metadata": {
      "needs_background": "light"
     },
     "output_type": "display_data"
    },
    {
     "data": {
      "image/png": "[encoded data removed]",
      "text/plain": [
       "<Figure size 1080x576 with 2 Axes>"
      ]
     },
     "metadata": {
      "needs_background": "light"
     },
     "output_type": "display_data"
    }
   ],
   "source": [
    "# display the results for q2\n",
    "explore.q2(df)"
   ]
  },
  {
   "cell_type": "markdown",
   "id": "fd435a07-ed8c-4a42-8abe-1f9812f2909d",
   "metadata": {},
   "source": [
    "#### Question 2 Takeaway:\n",
    "- Data science Darden (cohort 59) hit classification lesson really hard at about 3000 more visits than the other cohorts\n",
    "- Web development Staff (cohort 28) has a consistently higher lesson visit count across lessons. This makes sense as this is the staff cohort.\n",
    "- Web development Ceres (cohort 33) did visit the html-css lesson most frequently but not too significantly due to a cluster of consistently higher visits in following cohorts as well."
   ]
  },
  {
   "cell_type": "markdown",
   "id": "02c8525e-b793-43aa-9f1a-c860aebc860c",
   "metadata": {},
   "source": [
    "\n",
    "---"
   ]
  },
  {
   "cell_type": "markdown",
   "id": "287b4be4-0388-40b6-8a1b-89ab0d6fb9e1",
   "metadata": {},
   "source": [
    "#### Question 5: At some point in 2019, the ability for students and alumni to access both curriculums should have been shut off. Do you see any evidence of that happening? Did it happen before?"
   ]
  },
  {
   "cell_type": "code",
   "execution_count": 9,
   "id": "b05d956d-9fab-4adc-8933-522a75c2aa40",
   "metadata": {},
   "outputs": [
    {
     "data": {
      "text/html": [
       "<div>\n",
       "<style scoped>\n",
       "    .dataframe tbody tr th:only-of-type {\n",
       "        vertical-align: middle;\n",
       "    }\n",
       "\n",
       "    .dataframe tbody tr th {\n",
       "        vertical-align: top;\n",
       "    }\n",
       "\n",
       "    .dataframe thead th {\n",
       "        text-align: right;\n",
       "    }\n",
       "</style>\n",
       "<table border=\"1\" class=\"dataframe\">\n",
       "  <thead>\n",
       "    <tr style=\"text-align: right;\">\n",
       "      <th></th>\n",
       "      <th>lesson</th>\n",
       "      <th>user</th>\n",
       "      <th>program_id</th>\n",
       "    </tr>\n",
       "    <tr>\n",
       "      <th>date</th>\n",
       "      <th></th>\n",
       "      <th></th>\n",
       "      <th></th>\n",
       "    </tr>\n",
       "  </thead>\n",
       "  <tbody>\n",
       "    <tr>\n",
       "      <th>2020-05-19</th>\n",
       "      <td>java-ii</td>\n",
       "      <td>590</td>\n",
       "      <td>3.0</td>\n",
       "    </tr>\n",
       "  </tbody>\n",
       "</table>\n",
       "</div>"
      ],
      "text/plain": [
       "             lesson  user  program_id\n",
       "date                                 \n",
       "2020-05-19  java-ii   590         3.0"
      ]
     },
     "execution_count": 9,
     "metadata": {},
     "output_type": "execute_result"
    }
   ],
   "source": [
    "# display the finding for q5\n",
    "explore.q5(df)[['lesson','user','program_id']]"
   ]
  },
  {
   "cell_type": "markdown",
   "id": "7c030538-0680-4cb0-a604-8d7d445ccf85",
   "metadata": {},
   "source": [
    "#### Question 5 Takeaway:\n",
    "- The above finding was the latest log entry of a data science student visiting a web development page or vice versa.\n",
    "- This access was not turned off until at least May of 2020.\n",
    "- There was no evidence of cross-over access after this date.\n",
    "\n",
    "---\n",
    "#### Question 6. What topics are grads continuting to reference after graduation and into their jobs for each program?"
   ]
  },
  {
   "cell_type": "code",
   "execution_count": 10,
   "id": "2ac333d4-1f76-4c72-85cf-6a63c395c050",
   "metadata": {},
   "outputs": [
    {
     "data": {
      "text/html": [
       "<div>\n",
       "<style scoped>\n",
       "    .dataframe tbody tr th:only-of-type {\n",
       "        vertical-align: middle;\n",
       "    }\n",
       "\n",
       "    .dataframe tbody tr th {\n",
       "        vertical-align: top;\n",
       "    }\n",
       "\n",
       "    .dataframe thead th {\n",
       "        text-align: right;\n",
       "    }\n",
       "</style>\n",
       "<table border=\"1\" class=\"dataframe\">\n",
       "  <thead>\n",
       "    <tr style=\"text-align: right;\">\n",
       "      <th></th>\n",
       "      <th>lesson</th>\n",
       "      <th>visit_count</th>\n",
       "    </tr>\n",
       "  </thead>\n",
       "  <tbody>\n",
       "    <tr>\n",
       "      <th>0</th>\n",
       "      <td>sql</td>\n",
       "      <td>1554</td>\n",
       "    </tr>\n",
       "    <tr>\n",
       "      <th>1</th>\n",
       "      <td>fundamentals</td>\n",
       "      <td>1520</td>\n",
       "    </tr>\n",
       "    <tr>\n",
       "      <th>2</th>\n",
       "      <td></td>\n",
       "      <td>1446</td>\n",
       "    </tr>\n",
       "    <tr>\n",
       "      <th>3</th>\n",
       "      <td>classification</td>\n",
       "      <td>1316</td>\n",
       "    </tr>\n",
       "    <tr>\n",
       "      <th>4</th>\n",
       "      <td>python</td>\n",
       "      <td>845</td>\n",
       "    </tr>\n",
       "  </tbody>\n",
       "</table>\n",
       "</div>"
      ],
      "text/plain": [
       "           lesson  visit_count\n",
       "0             sql         1554\n",
       "1    fundamentals         1520\n",
       "2                         1446\n",
       "3  classification         1316\n",
       "4          python          845"
      ]
     },
     "execution_count": 10,
     "metadata": {},
     "output_type": "execute_result"
    }
   ],
   "source": [
    "# display the results for q6\n",
    "ds, wd = explore.q6(df)\n",
    "# look at data science results first\n",
    "ds"
   ]
  },
  {
   "cell_type": "code",
   "execution_count": 11,
   "id": "0ca41916-600c-4571-b32a-9151d48a6ebb",
   "metadata": {},
   "outputs": [
    {
     "data": {
      "text/html": [
       "<div>\n",
       "<style scoped>\n",
       "    .dataframe tbody tr th:only-of-type {\n",
       "        vertical-align: middle;\n",
       "    }\n",
       "\n",
       "    .dataframe tbody tr th {\n",
       "        vertical-align: top;\n",
       "    }\n",
       "\n",
       "    .dataframe thead th {\n",
       "        text-align: right;\n",
       "    }\n",
       "</style>\n",
       "<table border=\"1\" class=\"dataframe\">\n",
       "  <thead>\n",
       "    <tr style=\"text-align: right;\">\n",
       "      <th></th>\n",
       "      <th>lesson</th>\n",
       "      <th>visit_count</th>\n",
       "    </tr>\n",
       "  </thead>\n",
       "  <tbody>\n",
       "    <tr>\n",
       "      <th>0</th>\n",
       "      <td>spring</td>\n",
       "      <td>9638</td>\n",
       "    </tr>\n",
       "    <tr>\n",
       "      <th>1</th>\n",
       "      <td>javascript-i</td>\n",
       "      <td>9141</td>\n",
       "    </tr>\n",
       "    <tr>\n",
       "      <th>2</th>\n",
       "      <td>html-css</td>\n",
       "      <td>6711</td>\n",
       "    </tr>\n",
       "    <tr>\n",
       "      <th>3</th>\n",
       "      <td></td>\n",
       "      <td>6100</td>\n",
       "    </tr>\n",
       "    <tr>\n",
       "      <th>4</th>\n",
       "      <td>mysql</td>\n",
       "      <td>6040</td>\n",
       "    </tr>\n",
       "  </tbody>\n",
       "</table>\n",
       "</div>"
      ],
      "text/plain": [
       "         lesson  visit_count\n",
       "0        spring         9638\n",
       "1  javascript-i         9141\n",
       "2      html-css         6711\n",
       "3                       6100\n",
       "4         mysql         6040"
      ]
     },
     "execution_count": 11,
     "metadata": {},
     "output_type": "execute_result"
    }
   ],
   "source": [
    "# look at the web development results\n",
    "wd"
   ]
  },
  {
   "cell_type": "markdown",
   "id": "6e38c78a-4538-47f8-a47d-3d1b6d4154ed",
   "metadata": {},
   "source": [
    "#### Question 6 Takeaway:\n",
    "- Data science alumni reference the fundamentals lesson the most after graduation.\n",
    "- Web Dev alumni reference the spring lesson the most after graduation.\n",
    "\n",
    "---\n",
    "#### Questions 7. Which lessons are least accessed?"
   ]
  },
  {
   "cell_type": "code",
   "execution_count": 12,
   "id": "8c562295-214a-4750-b51d-74cc39b230b3",
   "metadata": {},
   "outputs": [
    {
     "data": {
      "text/html": [
       "<div>\n",
       "<style scoped>\n",
       "    .dataframe tbody tr th:only-of-type {\n",
       "        vertical-align: middle;\n",
       "    }\n",
       "\n",
       "    .dataframe tbody tr th {\n",
       "        vertical-align: top;\n",
       "    }\n",
       "\n",
       "    .dataframe thead th {\n",
       "        text-align: right;\n",
       "    }\n",
       "</style>\n",
       "<table border=\"1\" class=\"dataframe\">\n",
       "  <thead>\n",
       "    <tr style=\"text-align: right;\">\n",
       "      <th></th>\n",
       "      <th>lesson</th>\n",
       "      <th>visit_count</th>\n",
       "    </tr>\n",
       "  </thead>\n",
       "  <tbody>\n",
       "    <tr>\n",
       "      <th>0</th>\n",
       "      <td>fundamentals</td>\n",
       "      <td>16691</td>\n",
       "    </tr>\n",
       "    <tr>\n",
       "      <th>1</th>\n",
       "      <td>sql</td>\n",
       "      <td>13670</td>\n",
       "    </tr>\n",
       "    <tr>\n",
       "      <th>2</th>\n",
       "      <td>classification</td>\n",
       "      <td>11840</td>\n",
       "    </tr>\n",
       "    <tr>\n",
       "      <th>3</th>\n",
       "      <td>python</td>\n",
       "      <td>10455</td>\n",
       "    </tr>\n",
       "    <tr>\n",
       "      <th>4</th>\n",
       "      <td></td>\n",
       "      <td>8358</td>\n",
       "    </tr>\n",
       "    <tr>\n",
       "      <th>5</th>\n",
       "      <td>regression</td>\n",
       "      <td>7507</td>\n",
       "    </tr>\n",
       "    <tr>\n",
       "      <th>6</th>\n",
       "      <td>stats</td>\n",
       "      <td>6660</td>\n",
       "    </tr>\n",
       "    <tr>\n",
       "      <th>7</th>\n",
       "      <td>anomaly-detection</td>\n",
       "      <td>4332</td>\n",
       "    </tr>\n",
       "    <tr>\n",
       "      <th>8</th>\n",
       "      <td>clustering</td>\n",
       "      <td>4272</td>\n",
       "    </tr>\n",
       "    <tr>\n",
       "      <th>9</th>\n",
       "      <td>appendix</td>\n",
       "      <td>3944</td>\n",
       "    </tr>\n",
       "    <tr>\n",
       "      <th>10</th>\n",
       "      <td>timeseries</td>\n",
       "      <td>3315</td>\n",
       "    </tr>\n",
       "    <tr>\n",
       "      <th>11</th>\n",
       "      <td>storytelling</td>\n",
       "      <td>3312</td>\n",
       "    </tr>\n",
       "    <tr>\n",
       "      <th>12</th>\n",
       "      <td>nlp</td>\n",
       "      <td>3208</td>\n",
       "    </tr>\n",
       "    <tr>\n",
       "      <th>13</th>\n",
       "      <td>search</td>\n",
       "      <td>2206</td>\n",
       "    </tr>\n",
       "    <tr>\n",
       "      <th>14</th>\n",
       "      <td>distributed-ml</td>\n",
       "      <td>1655</td>\n",
       "    </tr>\n",
       "    <tr>\n",
       "      <th>15</th>\n",
       "      <td>advanced-topics</td>\n",
       "      <td>1278</td>\n",
       "    </tr>\n",
       "  </tbody>\n",
       "</table>\n",
       "</div>"
      ],
      "text/plain": [
       "               lesson  visit_count\n",
       "0        fundamentals        16691\n",
       "1                 sql        13670\n",
       "2      classification        11840\n",
       "3              python        10455\n",
       "4                             8358\n",
       "5          regression         7507\n",
       "6               stats         6660\n",
       "7   anomaly-detection         4332\n",
       "8          clustering         4272\n",
       "9            appendix         3944\n",
       "10         timeseries         3315\n",
       "11       storytelling         3312\n",
       "12                nlp         3208\n",
       "13             search         2206\n",
       "14     distributed-ml         1655\n",
       "15    advanced-topics         1278"
      ]
     },
     "execution_count": 12,
     "metadata": {},
     "output_type": "execute_result"
    }
   ],
   "source": [
    "# display the resutls for q7\n",
    "ds, wd = explore.q7(df)\n",
    "# look at the data science results first\n",
    "ds"
   ]
  },
  {
   "cell_type": "code",
   "execution_count": 13,
   "id": "ff032594-1c6c-4eae-ae25-08de8ccbd778",
   "metadata": {},
   "outputs": [
    {
     "data": {
      "text/html": [
       "<div>\n",
       "<style scoped>\n",
       "    .dataframe tbody tr th:only-of-type {\n",
       "        vertical-align: middle;\n",
       "    }\n",
       "\n",
       "    .dataframe tbody tr th {\n",
       "        vertical-align: top;\n",
       "    }\n",
       "\n",
       "    .dataframe thead th {\n",
       "        text-align: right;\n",
       "    }\n",
       "</style>\n",
       "<table border=\"1\" class=\"dataframe\">\n",
       "  <thead>\n",
       "    <tr style=\"text-align: right;\">\n",
       "      <th></th>\n",
       "      <th>lesson</th>\n",
       "      <th>visit_count</th>\n",
       "    </tr>\n",
       "  </thead>\n",
       "  <tbody>\n",
       "    <tr>\n",
       "      <th>0</th>\n",
       "      <td>javascript-i</td>\n",
       "      <td>110118</td>\n",
       "    </tr>\n",
       "    <tr>\n",
       "      <th>1</th>\n",
       "      <td>html-css</td>\n",
       "      <td>79001</td>\n",
       "    </tr>\n",
       "    <tr>\n",
       "      <th>2</th>\n",
       "      <td>mysql</td>\n",
       "      <td>77340</td>\n",
       "    </tr>\n",
       "    <tr>\n",
       "      <th>3</th>\n",
       "      <td>jquery</td>\n",
       "      <td>56787</td>\n",
       "    </tr>\n",
       "    <tr>\n",
       "      <th>4</th>\n",
       "      <td>spring</td>\n",
       "      <td>53149</td>\n",
       "    </tr>\n",
       "    <tr>\n",
       "      <th>5</th>\n",
       "      <td>java-iii</td>\n",
       "      <td>52607</td>\n",
       "    </tr>\n",
       "    <tr>\n",
       "      <th>6</th>\n",
       "      <td>java-ii</td>\n",
       "      <td>51348</td>\n",
       "    </tr>\n",
       "    <tr>\n",
       "      <th>7</th>\n",
       "      <td>java-i</td>\n",
       "      <td>38180</td>\n",
       "    </tr>\n",
       "    <tr>\n",
       "      <th>8</th>\n",
       "      <td>javascript-ii</td>\n",
       "      <td>36068</td>\n",
       "    </tr>\n",
       "  </tbody>\n",
       "</table>\n",
       "</div>"
      ],
      "text/plain": [
       "          lesson  visit_count\n",
       "0   javascript-i       110118\n",
       "1       html-css        79001\n",
       "2          mysql        77340\n",
       "3         jquery        56787\n",
       "4         spring        53149\n",
       "5       java-iii        52607\n",
       "6        java-ii        51348\n",
       "7         java-i        38180\n",
       "8  javascript-ii        36068"
      ]
     },
     "execution_count": 13,
     "metadata": {},
     "output_type": "execute_result"
    }
   ],
   "source": [
    "# look at the web development results\n",
    "wd"
   ]
  },
  {
   "cell_type": "markdown",
   "id": "d66123ba-87fa-4b82-bba6-39c9f3e7579b",
   "metadata": {},
   "source": [
    "#### Question 7 Takeaway:\n",
    "- Data science students visit advanced topics and distributed-ml the least at about 1,500-2,000 less than visits than the next least-visited data science lesson \n",
    "- Web development students visit javascript-ii and java-i the least at about 12,000 less visits than the next webdev lesson\n",
    "---"
   ]
  },
  {
   "cell_type": "markdown",
   "id": "7907a4b8-68ea-4f19-824a-61c6c0145828",
   "metadata": {},
   "source": [
    "### Interesting find: What is the trend of program visits?"
   ]
  },
  {
   "cell_type": "code",
   "execution_count": 14,
   "id": "1ebd2ae9-354f-4752-bf20-2506c78fee47",
   "metadata": {},
   "outputs": [
    {
     "data": {
      "image/png": "[encoded data removed]",
      "text/plain": [
       "<Figure size 864x576 with 1 Axes>"
      ]
     },
     "metadata": {
      "needs_background": "light"
     },
     "output_type": "display_data"
    }
   ],
   "source": [
    "explore.q8(df)"
   ]
  },
  {
   "cell_type": "markdown",
   "id": "e64a1c99-3807-41c3-beed-65b8a65b3765",
   "metadata": {
    "jp-MarkdownHeadingCollapsed": true,
    "tags": []
   },
   "source": [
    "#### Interesting find takeaways:\n",
    "- All active programs are trending upwards in website visits\n",
    "- This could eventually reach the server limit\n",
    "---"
   ]
  },
  {
   "cell_type": "markdown",
   "id": "b83362b4-dadb-4298-8f3c-b328b7f2f2c3",
   "metadata": {},
   "source": [
    "### Data Exploration Takeaways:\n",
    " - Data Science:\n",
    "     - visits the fundamentals lesson pages the most\n",
    "     - Darden cohort (59) had 3,000 more visits in the classification lesson than the other cohorts\n",
    "     - Alumni reference the fundamentals lesson the most\n",
    "     - visits the advanced topics and distributed-ml lessons the least with about 1,500-2,000 less visits than the next least visited lesson\n",
    " \n",
    " - Web Development:\n",
    "     - visits the javascript-i lesson pages the most\n",
    "     - Ceres cohort (33) had higher visit counts to html-css lesson, but the following cohorts also held higher visits to this lesson\n",
    "     - Alumni reference the spring lesson the most\n",
    "     - visits javascript-ii and java-i the least at about 12,000 less visits than the next least visited lesson\n",
    "     \n",
    " - Access to both sets of lessons was not turned off in 2019. The last finiding of a program student accessing the other program material was in May of 2020.\n",
    " \n",
    "----"
   ]
  },
  {
   "cell_type": "markdown",
   "id": "2175f97d-20a3-4746-a59c-caf77e8e260b",
   "metadata": {
    "tags": []
   },
   "source": [
    "## Conclusion\n",
    "The programs are highly consistent with what material is covered, and this is true very few significant variations. There is value in looking into what our alumni come back to visit, as this could be an indicator of changes in the industry. Similarly, the pages least visited might also be an indicator of contant losing relevancy in the industry.  \n",
    "\n",
    "### Recommendations\n",
    "- Adding in more time during the web development program to review spring. With it being the most referenced after graduation, it can be assumed this skill needs more dedicated time or depth in the curriculum\n",
    "- Adding in a fundamentals review towards the end of the data science program may mitigate knowledge lost after graduation\n",
    "- Double check that programs are officially shut down from accessing other program's pages. It does not appear the 2019 shut down occured\n",
    "- Develop dashboard to update live data to visually display how current cohorts are interacting with the curriculum\n",
    "\n",
    "### Next Steps:\n",
    "- With more time, I would dig into the other vital questions asked reguarding students who rarely access the curriculum and identifying any potential threats to the online property. \n",
    "- Look into server limits as program attendance and cohort timeline overlap continues to trend upwards\n",
    "- Add page classifiers such as program name or informational page in order to ease future exploration of this data\n",
    "---"
   ]
  }
 ],
 "metadata": {
  "kernelspec": {
   "display_name": "Python 3 (ipykernel)",
   "language": "python",
   "name": "python3"
  },
  "language_info": {
   "codemirror_mode": {
    "name": "ipython",
    "version": 3
   },
   "file_extension": ".py",
   "mimetype": "text/x-python",
   "name": "python",
   "nbconvert_exporter": "python",
   "pygments_lexer": "ipython3",
   "version": "3.9.12"
  }
 },
 "nbformat": 4,
 "nbformat_minor": 5
}
